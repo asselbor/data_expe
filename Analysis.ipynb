{
 "cells": [
  {
   "cell_type": "code",
   "execution_count": 9,
   "metadata": {},
   "outputs": [],
   "source": [
    "import numpy as np\n",
    "import pandas as pd\n",
    "import pickle\n",
    "import glob\n",
    "import matplotlib.pyplot as plt\n",
    "from sklearn import svm\n",
    "from sklearn.ensemble import RandomForestClassifier"
   ]
  },
  {
   "cell_type": "code",
   "execution_count": 2,
   "metadata": {},
   "outputs": [],
   "source": [
    "nbDivision = 5\n",
    "def getFeatures(data):\n",
    "    features = []\n",
    "    nbPoints = len(data[\"x\"])\n",
    "    for i in range(nbDivision):\n",
    "        deltaX = data[\"x\"][int(i*nbPoints/float(nbDivision))] - data[\"x\"][int((i+1)*nbPoints/float(nbDivision))-1]\n",
    "        deltaY = data[\"y\"][int(i*nbPoints/float(nbDivision))] - data[\"y\"][int((i+1)*nbPoints/float(nbDivision))-1]\n",
    "        deltaT = data[\"time\"][int(i*nbPoints/float(nbDivision))] - data[\"time\"][int((i+1)*nbPoints/float(nbDivision))-1]\n",
    "        \n",
    "        features.append(deltaX)\n",
    "        features.append(deltaY)\n",
    "        features.append(deltaT)\n",
    "        \n",
    "    return features"
   ]
  },
  {
   "cell_type": "code",
   "execution_count": 21,
   "metadata": {},
   "outputs": [],
   "source": [
    "dbs = glob.glob(\"data/a/*\")"
   ]
  },
  {
   "cell_type": "code",
   "execution_count": 35,
   "metadata": {},
   "outputs": [],
   "source": [
    "X_train = []\n",
    "Y_train = []\n",
    "for db in dbs[0:int(0.6*len(dbs))]:\n",
    "    with open(db, 'rb') as handle:\n",
    "        data = pickle.load(handle)\n",
    "        \n",
    "    if(data[\"x\"]):\n",
    "        X_train.append(getFeatures(data))\n",
    "        Y_train.append(0.0 if db[-1] == \"_\" else 1.0)"
   ]
  },
  {
   "cell_type": "code",
   "execution_count": 27,
   "metadata": {},
   "outputs": [
    {
     "data": {
      "text/plain": [
       "SVC(C=1.0, cache_size=200, class_weight=None, coef0=0.0,\n",
       "  decision_function_shape=None, degree=3, gamma='auto', kernel='rbf',\n",
       "  max_iter=-1, probability=False, random_state=None, shrinking=True,\n",
       "  tol=0.001, verbose=False)"
      ]
     },
     "execution_count": 27,
     "metadata": {},
     "output_type": "execute_result"
    }
   ],
   "source": [
    "clf = svm.SVC()\n",
    "clf.fit(X_train, Y_train)"
   ]
  },
  {
   "cell_type": "code",
   "execution_count": 36,
   "metadata": {},
   "outputs": [
    {
     "data": {
      "text/plain": [
       "RandomForestClassifier(bootstrap=True, class_weight=None, criterion='gini',\n",
       "            max_depth=None, max_features='auto', max_leaf_nodes=None,\n",
       "            min_impurity_split=1e-07, min_samples_leaf=1,\n",
       "            min_samples_split=2, min_weight_fraction_leaf=0.0,\n",
       "            n_estimators=10, n_jobs=1, oob_score=False, random_state=None,\n",
       "            verbose=0, warm_start=False)"
      ]
     },
     "execution_count": 36,
     "metadata": {},
     "output_type": "execute_result"
    }
   ],
   "source": [
    "clf = RandomForestClassifier()\n",
    "clf.fit(X_train, Y_train)"
   ]
  },
  {
   "cell_type": "code",
   "execution_count": 37,
   "metadata": {},
   "outputs": [],
   "source": [
    "X_test = []\n",
    "Y_test = []\n",
    "for i, db in enumerate(dbs[int(0.6*len(dbs)):]):\n",
    "    with open(db, 'rb') as handle:\n",
    "        data = pickle.load(handle)\n",
    "    \n",
    "    if(data[\"x\"]):\n",
    "        X_test.append(getFeatures(data))\n",
    "        Y_test.append(0.0 if db[-1] == \"_\" else 1.0)"
   ]
  },
  {
   "cell_type": "code",
   "execution_count": 38,
   "metadata": {},
   "outputs": [
    {
     "name": "stdout",
     "output_type": "stream",
     "text": [
      "0.926829268293\n"
     ]
    }
   ],
   "source": [
    "corrects = clf.predict(X_test) == np.array(Y_test)\n",
    "print(np.sum([1. for i in corrects if i == True])/float(len(corrects)))"
   ]
  }
 ],
 "metadata": {
  "kernelspec": {
   "display_name": "Python 2",
   "language": "python",
   "name": "python2"
  },
  "language_info": {
   "codemirror_mode": {
    "name": "ipython",
    "version": 2
   },
   "file_extension": ".py",
   "mimetype": "text/x-python",
   "name": "python",
   "nbconvert_exporter": "python",
   "pygments_lexer": "ipython2",
   "version": "2.7.12"
  }
 },
 "nbformat": 4,
 "nbformat_minor": 2
}
